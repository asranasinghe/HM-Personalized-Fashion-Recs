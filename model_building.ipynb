{
 "cells": [
  {
   "cell_type": "markdown",
   "metadata": {},
   "source": [
    "#### Final Project: H&M Personalized Fashion Recommendations\n",
    "#### Model Building: MBA, ALS Implicit, Ensemble\n",
    "#### Last Updated: May 24, 2022\n",
    "<br>"
   ]
  },
  {
   "cell_type": "markdown",
   "metadata": {},
   "source": [
    "#### Overview\n",
    "\n",
    "This notebook intakes parquet files created from the \"preprocessing.ipynb\" notebook and utilizes it for creation of various models for personalized fashion recommendations. The models created are listed below: <br>\n",
    "\n",
    "(1) Seasonal Model <br>\n",
    "(2) Trending Product Model <br>\n",
    "(3) ALS Implicit Model <br>\n",
    "(4) Market Basket Analysis <br>\n",
    "(5) Ensemble Model"
   ]
  },
  {
   "cell_type": "markdown",
   "metadata": {},
   "source": [
    "<br>"
   ]
  },
  {
   "cell_type": "code",
   "execution_count": 1,
   "metadata": {},
   "outputs": [],
   "source": [
    "import os\n",
    "import pandas as pd\n",
    "import numpy as np\n",
    "import matplotlib.pyplot as plt\n",
    "import seaborn as sns\n",
    "\n",
    "from pyspark.sql import SparkSession\n",
    "from pyspark.sql import Row\n",
    "from pyspark.sql.functions import collect_set, col, count, row_number, lit, when\n",
    "from pyspark.sql.window import Window\n",
    "from pyspark.sql.functions import from_unixtime, unix_timestamp, year, month, col, date_format\n",
    "from pyspark.ml.fpm import FPGrowth\n",
    "from pyspark.mllib.evaluation import RankingMetrics\n",
    "from pyspark.ml.feature import Bucketizer, StringIndexer\n",
    "from pyspark.ml.recommendation import ALS\n",
    "from pyspark.ml import Pipeline\n",
    "\n",
    "\n",
    "spark = SparkSession.builder \\\n",
    "    .master('local[*]') \\\n",
    "    .config(\"spark.driver.memory\", \"100g\") \\\n",
    "    .appName('my-cool-app') \\\n",
    "    .getOrCreate()"
   ]
  },
  {
   "cell_type": "markdown",
   "metadata": {},
   "source": [
    "<br>"
   ]
  },
  {
   "cell_type": "markdown",
   "metadata": {},
   "source": [
    "#### Load Data"
   ]
  },
  {
   "cell_type": "code",
   "execution_count": 2,
   "metadata": {},
   "outputs": [],
   "source": [
    "customers = spark.read.csv('/sfs/qumulo/qhome/sar2jf/Documents/hm_fashion/Data/raw_data/customers.csv',  inferSchema=True, header = True)\n",
    "articles = spark.read.csv('/sfs/qumulo/qhome/sar2jf/Documents/hm_fashion/Data/raw_data/articles.csv',  inferSchema=True, header = True)\n",
    "transactions_full = spark.read.csv('/sfs/qumulo/qhome/sar2jf/Documents/hm_fashion/Data/raw_data/transactions_train.csv',  inferSchema=True, header = True)"
   ]
  },
  {
   "cell_type": "markdown",
   "metadata": {},
   "source": [
    "<br>"
   ]
  },
  {
   "cell_type": "markdown",
   "metadata": {},
   "source": [
    "#### Additional Processing"
   ]
  },
  {
   "cell_type": "markdown",
   "metadata": {},
   "source": [
    "##### Create Customer Index, Article Index"
   ]
  },
  {
   "cell_type": "code",
   "execution_count": 3,
   "metadata": {},
   "outputs": [
    {
     "name": "stdout",
     "output_type": "stream",
     "text": [
      "+--------------------+--------+\n",
      "|         customer_id|cust_idx|\n",
      "+--------------------+--------+\n",
      "|000346516dd355b40...|       1|\n",
      "|0003e56a4332b2503...|       2|\n",
      "|0011a72ff27917972...|       3|\n",
      "|0022058e10f379f15...|       4|\n",
      "|0028449d82fdf6771...|       5|\n",
      "+--------------------+--------+\n",
      "only showing top 5 rows\n",
      "\n"
     ]
    }
   ],
   "source": [
    "# Map customer_id to an index\n",
    "\n",
    "cust_idx = customers.select(col('customer_id')).distinct()\n",
    "\n",
    "w = Window().orderBy(lit('A'))\n",
    "cust_idx = cust_idx.withColumn(\"cust_idx\", row_number().over(w))\n",
    "\n",
    "cust_idx.show(5)\n"
   ]
  },
  {
   "cell_type": "code",
   "execution_count": 4,
   "metadata": {},
   "outputs": [
    {
     "name": "stdout",
     "output_type": "stream",
     "text": [
      "+----------+-------+\n",
      "|article_id|art_idx|\n",
      "+----------+-------+\n",
      "| 126589006|      1|\n",
      "| 201219001|      2|\n",
      "| 241412052|      3|\n",
      "| 247072032|      4|\n",
      "| 266873009|      5|\n",
      "+----------+-------+\n",
      "only showing top 5 rows\n",
      "\n"
     ]
    }
   ],
   "source": [
    "# Map article_id to an index\n",
    "\n",
    "article_idx = articles.select(col('article_id')).distinct()\n",
    "\n",
    "w = Window().orderBy(lit('A'))\n",
    "article_idx = article_idx.withColumn(\"art_idx\", row_number().over(w))\n",
    "\n",
    "article_idx.show(5)\n"
   ]
  },
  {
   "cell_type": "markdown",
   "metadata": {},
   "source": [
    "##### Create month / year column for transactions_train"
   ]
  },
  {
   "cell_type": "code",
   "execution_count": 17,
   "metadata": {},
   "outputs": [
    {
     "name": "stdout",
     "output_type": "stream",
     "text": [
      "+----------+--------------------+----------+--------------------+----------------+------+-------+\n",
      "|     t_dat|         customer_id|article_id|               price|sales_channel_id|t_year|t_month|\n",
      "+----------+--------------------+----------+--------------------+----------------+------+-------+\n",
      "|2018-09-20|000058a12d5b43e67...| 663713001|0.050830508474576264|               2|  2018|     09|\n",
      "|2018-09-20|000058a12d5b43e67...| 541518023| 0.03049152542372881|               2|  2018|     09|\n",
      "|2018-09-20|00007d2de826758b6...| 505221004| 0.01523728813559322|               2|  2018|     09|\n",
      "|2018-09-20|00007d2de826758b6...| 685687003|0.016932203389830508|               2|  2018|     09|\n",
      "|2018-09-20|00007d2de826758b6...| 685687004|0.016932203389830508|               2|  2018|     09|\n",
      "+----------+--------------------+----------+--------------------+----------------+------+-------+\n",
      "only showing top 5 rows\n",
      "\n"
     ]
    }
   ],
   "source": [
    "transactions_full = transactions_full.withColumn(\"t_year\", transactions_full.t_dat.substr(1,4))\n",
    "transactions_full = transactions_full.withColumn(\"t_month\", transactions_full.t_dat.substr(6,2))\n",
    "\n",
    "transactions_full.show(5)"
   ]
  },
  {
   "cell_type": "markdown",
   "metadata": {},
   "source": [
    "##### Load Validation Set and Format"
   ]
  },
  {
   "cell_type": "code",
   "execution_count": 9,
   "metadata": {},
   "outputs": [],
   "source": [
    "validation = spark.read.parquet(\"/sfs/qumulo/qhome/sar2jf/Documents/hm_fashion/Data/processed_data/val_par\")"
   ]
  },
  {
   "cell_type": "code",
   "execution_count": 10,
   "metadata": {},
   "outputs": [
    {
     "name": "stdout",
     "output_type": "stream",
     "text": [
      "+--------------------+--------------------+\n",
      "|         customer_id|              labels|\n",
      "+--------------------+--------------------+\n",
      "|0038bf2b66fdc1de4...|[864415002, 89475...|\n",
      "|004432f08708cc499...|[933406001, 85078...|\n",
      "|005ddabf9bc77f963...|[745232001, 91381...|\n",
      "|006ae0656ded2215d...|[803083002, 85001...|\n",
      "|0086f22a4967559a6...|[828295001, 87131...|\n",
      "+--------------------+--------------------+\n",
      "only showing top 5 rows\n",
      "\n"
     ]
    }
   ],
   "source": [
    "validation = validation.groupBy('customer_id') \\\n",
    "                      .agg(collect_set('article_id') \\\n",
    "                      .alias('labels'))\n",
    "\n",
    "validation.show(5)"
   ]
  },
  {
   "cell_type": "markdown",
   "metadata": {},
   "source": [
    "##### Below Table is List of Customers To Make Predictions On"
   ]
  },
  {
   "cell_type": "code",
   "execution_count": 35,
   "metadata": {},
   "outputs": [
    {
     "name": "stdout",
     "output_type": "stream",
     "text": [
      "+--------------------+--------+---------+\n",
      "|         customer_id|cust_sex|age_group|\n",
      "+--------------------+--------+---------+\n",
      "|0038bf2b66fdc1de4...|       F|      5.0|\n",
      "|0038bf2b66fdc1de4...|       F|      5.0|\n",
      "|0038bf2b66fdc1de4...|       F|      5.0|\n",
      "|0038bf2b66fdc1de4...|       F|      5.0|\n",
      "|004432f08708cc499...|       F|      2.0|\n",
      "+--------------------+--------+---------+\n",
      "only showing top 5 rows\n",
      "\n"
     ]
    }
   ],
   "source": [
    "# Get list of customers that require predictions, merge to customers to get demographic data\n",
    "\n",
    "customer_val = validation.select(col('customer_id'))\n",
    "\n",
    "temp = customers.select(col('customer_id'), col('cust_sex'), col('age_group'))\n",
    "customer_val = customer_val.join(temp, on = 'customer_id', how = 'inner')\n",
    "\n",
    "customer_val.show(5)"
   ]
  },
  {
   "cell_type": "markdown",
   "metadata": {},
   "source": [
    "<br>"
   ]
  },
  {
   "cell_type": "markdown",
   "metadata": {},
   "source": [
    "#### Determine Sex of Customers\n",
    "\n",
    "Sex of customers must be predicted based on the type of article they purchase. First the index_name of each article is mapped to either M/F/ Unknown. Then based on the proportion of products purchased from each category, a sex for each customer is predicted. "
   ]
  },
  {
   "cell_type": "code",
   "execution_count": 19,
   "metadata": {},
   "outputs": [
    {
     "name": "stdout",
     "output_type": "stream",
     "text": [
      "+----------------+--------+\n",
      "|      index_name|prod_sex|\n",
      "+----------------+--------+\n",
      "|      Ladieswear|       F|\n",
      "|      Ladieswear|       F|\n",
      "|      Ladieswear|       F|\n",
      "|Lingeries/Tights|       F|\n",
      "|Lingeries/Tights|       F|\n",
      "+----------------+--------+\n",
      "only showing top 5 rows\n",
      "\n"
     ]
    }
   ],
   "source": [
    "# Map index names of articles to either M/F/Unknown\n",
    "\n",
    "articles = articles.withColumn('prod_sex',\n",
    "    when(articles.index_name == 'Menswear', 'M')\\\n",
    "    .when(articles.index_name == 'Lingeries/Tights', 'F')\\\n",
    "    .when(articles.index_name == 'Ladies Accessories', 'F')\\\n",
    "    .when(articles.index_name == 'Ladieswear', 'F')\\\n",
    "    .otherwise('Unknown')\n",
    ")\n",
    "\n",
    "articles.select(col('index_name'), col('prod_sex')).show(5)"
   ]
  },
  {
   "cell_type": "code",
   "execution_count": 20,
   "metadata": {},
   "outputs": [
    {
     "name": "stdout",
     "output_type": "stream",
     "text": [
      "+----------+----------+--------------------+--------------------+----------------+------+-------+--------+\n",
      "|article_id|     t_dat|         customer_id|               price|sales_channel_id|t_year|t_month|prod_sex|\n",
      "+----------+----------+--------------------+--------------------+----------------+------+-------+--------+\n",
      "| 663713001|2018-09-20|000058a12d5b43e67...|0.050830508474576264|               2|  2018|     09|       F|\n",
      "| 541518023|2018-09-20|000058a12d5b43e67...| 0.03049152542372881|               2|  2018|     09|       F|\n",
      "| 505221004|2018-09-20|00007d2de826758b6...| 0.01523728813559322|               2|  2018|     09| Unknown|\n",
      "| 685687003|2018-09-20|00007d2de826758b6...|0.016932203389830508|               2|  2018|     09|       F|\n",
      "| 685687004|2018-09-20|00007d2de826758b6...|0.016932203389830508|               2|  2018|     09|       F|\n",
      "+----------+----------+--------------------+--------------------+----------------+------+-------+--------+\n",
      "only showing top 5 rows\n",
      "\n"
     ]
    }
   ],
   "source": [
    "# Join prod_sex to transactions_full\n",
    "\n",
    "art_temp = articles.select(col('article_id'), col('prod_sex'))\n",
    "transactions_full = transactions_full.join(art_temp, on = 'article_id', how = 'inner')\n",
    "\n",
    "transactions_full.show(5)"
   ]
  },
  {
   "cell_type": "code",
   "execution_count": 21,
   "metadata": {},
   "outputs": [
    {
     "name": "stdout",
     "output_type": "stream",
     "text": [
      "+--------------------+----------+----------+-------+\n",
      "|         customer_id|m_prod_cnt|f_prod_cnt|unknown|\n",
      "+--------------------+----------+----------+-------+\n",
      "|05f65801b9a2d28a5...|         0|        40|     10|\n",
      "|05f79b715286a38a8...|         0|        13|      4|\n",
      "|072d11a8c0a1e6d0f...|         5|         2|      0|\n",
      "|0d8f74345c5153236...|        11|        10|     19|\n",
      "|102b78267df2dbc2d...|        36|        23|     17|\n",
      "+--------------------+----------+----------+-------+\n",
      "only showing top 5 rows\n",
      "\n"
     ]
    }
   ],
   "source": [
    "# Get counts of clothing by sex for each customer\n",
    "\n",
    "transactions_full.createOrReplaceTempView(\"transactions_temp\")\n",
    "sex_ind = spark.sql(\"SELECT customer_id, SUM(CASE WHEN prod_sex = 'M' then 1 ELSE 0 END) AS m_prod_cnt,\\\n",
    "                    SUM(CASE WHEN prod_sex = 'F' then 1 ELSE 0 END) AS f_prod_cnt,\\\n",
    "                    SUM(CASE WHEN prod_sex = 'Unknown' then 1 ELSE 0 END) AS unknown\\\n",
    "                    FROM transactions_temp GROUP BY customer_id\")\n",
    "\n",
    "sex_ind.show(5)"
   ]
  },
  {
   "cell_type": "code",
   "execution_count": 22,
   "metadata": {},
   "outputs": [
    {
     "name": "stdout",
     "output_type": "stream",
     "text": [
      "+--------------------+----------+----------+-------+--------+\n",
      "|         customer_id|m_prod_cnt|f_prod_cnt|unknown|cust_sex|\n",
      "+--------------------+----------+----------+-------+--------+\n",
      "|05f65801b9a2d28a5...|         0|        40|     10|       F|\n",
      "|05f79b715286a38a8...|         0|        13|      4|       F|\n",
      "|072d11a8c0a1e6d0f...|         5|         2|      0|       M|\n",
      "|0d8f74345c5153236...|        11|        10|     19| unknown|\n",
      "|102b78267df2dbc2d...|        36|        23|     17|       M|\n",
      "+--------------------+----------+----------+-------+--------+\n",
      "only showing top 5 rows\n",
      "\n"
     ]
    }
   ],
   "source": [
    "sex_ind = sex_ind.withColumn('cust_sex',\n",
    "    when(((sex_ind.f_prod_cnt) >= (sex_ind.m_prod_cnt)) &  ((sex_ind.f_prod_cnt) >= (sex_ind.unknown)), 'F')\\\n",
    "    .when(((sex_ind.m_prod_cnt) >= (sex_ind.f_prod_cnt)) &  ((sex_ind.m_prod_cnt) >= (sex_ind.unknown)), 'M')\\\n",
    "    .otherwise('unknown')\n",
    ")\n",
    "\n",
    "sex_ind.show(5)"
   ]
  },
  {
   "cell_type": "code",
   "execution_count": 23,
   "metadata": {},
   "outputs": [],
   "source": [
    "# Join with customers table and transactions_train\n",
    "\n",
    "sex_temp = sex_ind.select(col('customer_id'), col('cust_sex'))\n",
    "\n",
    "customers = customers.join(sex_temp, on = 'customer_id', how = 'left')"
   ]
  },
  {
   "cell_type": "code",
   "execution_count": 24,
   "metadata": {},
   "outputs": [
    {
     "name": "stdout",
     "output_type": "stream",
     "text": [
      "+--------------------+----+------+------------------+----------------------+---+--------------------+--------+\n",
      "|         customer_id|  FN|Active|club_member_status|fashion_news_frequency|age|         postal_code|cust_sex|\n",
      "+--------------------+----+------+------------------+----------------------+---+--------------------+--------+\n",
      "|000346516dd355b40...|null|  null|            ACTIVE|                  NONE| 25|5b05b77e09b7c5895...| unknown|\n",
      "|0003e56a4332b2503...| 1.0|   1.0|            ACTIVE|             Regularly| 70|87a11433a6d5bfbd2...|       F|\n",
      "|0011a72ff27917972...|null|  null|            ACTIVE|                  NONE| 35|ba653343093af1c4c...|       F|\n",
      "|0022058e10f379f15...|null|  null|            ACTIVE|                  NONE| 48|b8be2bccfe2c6da84...|       F|\n",
      "|0028449d82fdf6771...|null|  null|        PRE-CREATE|                  NONE| 49|734bf53cf5df1e4a1...|       F|\n",
      "+--------------------+----+------+------------------+----------------------+---+--------------------+--------+\n",
      "only showing top 5 rows\n",
      "\n"
     ]
    }
   ],
   "source": [
    "customers.show(5)"
   ]
  },
  {
   "cell_type": "markdown",
   "metadata": {},
   "source": [
    "<br>"
   ]
  },
  {
   "cell_type": "markdown",
   "metadata": {},
   "source": [
    "#### Create prod_index_id\n",
    "\n",
    "The product_type_no (included in original dataset) only categorizes based on the type of product (i.e. pants), but remains the same across index_name. For example, product_type_no will be the same for pants in ladieswear and pants in menswear. \n",
    "\n",
    "The prod_index_id is created based on distinct combinations of both the product_type_name, and the index_name. "
   ]
  },
  {
   "cell_type": "code",
   "execution_count": 25,
   "metadata": {},
   "outputs": [],
   "source": [
    "# Create distinct pairings of product types, and index\n",
    "\n",
    "art_lookup = articles.select(col('product_type_name'), col('index_name')) \\\n",
    "                       .distinct() \\\n",
    "                       .sort(col('product_type_no'))\n",
    "\n",
    "\n",
    "# Create ID for unique product, index types\n",
    "\n",
    "w = Window().orderBy(lit('A'))\n",
    "art_lookup = art_lookup.withColumn(\"prod_index_id\", row_number().over(w))\n",
    "\n",
    "\n",
    "# Rejoin with articles, extract relevant columns\n",
    "\n",
    "art_lookup = articles.join(art_lookup, \n",
    "                           on = ['product_type_name', 'index_name'], \n",
    "                           how = 'inner')\n",
    "\n",
    "art_lookup = art_lookup.select(col('article_id'),\n",
    "                  col('product_type_name'), col('product_code'),\n",
    "                  col('product_type_no'), \n",
    "                  col('index_name'), \n",
    "                  col('prod_index_id')).sort(col('prod_index_id'))\n",
    "\n",
    "art_lookup_short = art_lookup.select(col('article_id'), \n",
    "                  col('prod_index_id')).sort(col('prod_index_id'))"
   ]
  },
  {
   "cell_type": "code",
   "execution_count": 26,
   "metadata": {},
   "outputs": [
    {
     "name": "stdout",
     "output_type": "stream",
     "text": [
      "+----------+-----------------+------------+---------------+--------------------+-------------+\n",
      "|article_id|product_type_name|product_code|product_type_no|          index_name|prod_index_id|\n",
      "+----------+-----------------+------------+---------------+--------------------+-------------+\n",
      "| 519243001|          Unknown|      519243|             -1|Children Accessor...|            1|\n",
      "| 867969002|          Unknown|      867969|             -1|             Divided|            2|\n",
      "| 691704002|          Unknown|      691704|             -1|             Divided|            2|\n",
      "| 724906018|          Unknown|      724906|             -1|             Divided|            2|\n",
      "| 724906019|          Unknown|      724906|             -1|             Divided|            2|\n",
      "+----------+-----------------+------------+---------------+--------------------+-------------+\n",
      "only showing top 5 rows\n",
      "\n"
     ]
    }
   ],
   "source": [
    "art_lookup.show(5)"
   ]
  },
  {
   "cell_type": "markdown",
   "metadata": {},
   "source": [
    "<br>"
   ]
  },
  {
   "cell_type": "markdown",
   "metadata": {},
   "source": [
    "#### Create Age Buckets For Customers Table"
   ]
  },
  {
   "cell_type": "code",
   "execution_count": 27,
   "metadata": {},
   "outputs": [
    {
     "name": "stdout",
     "output_type": "stream",
     "text": [
      "+--------------------+----+------+------------------+----------------------+---+--------------------+--------+\n",
      "|         customer_id|  FN|Active|club_member_status|fashion_news_frequency|age|         postal_code|cust_sex|\n",
      "+--------------------+----+------+------------------+----------------------+---+--------------------+--------+\n",
      "|000346516dd355b40...|null|  null|            ACTIVE|                  NONE| 25|5b05b77e09b7c5895...| unknown|\n",
      "|0003e56a4332b2503...| 1.0|   1.0|            ACTIVE|             Regularly| 70|87a11433a6d5bfbd2...|       F|\n",
      "|0011a72ff27917972...|null|  null|            ACTIVE|                  NONE| 35|ba653343093af1c4c...|       F|\n",
      "|0022058e10f379f15...|null|  null|            ACTIVE|                  NONE| 48|b8be2bccfe2c6da84...|       F|\n",
      "|0028449d82fdf6771...|null|  null|        PRE-CREATE|                  NONE| 49|734bf53cf5df1e4a1...|       F|\n",
      "+--------------------+----+------+------------------+----------------------+---+--------------------+--------+\n",
      "only showing top 5 rows\n",
      "\n"
     ]
    }
   ],
   "source": [
    "customers.show(5)"
   ]
  },
  {
   "cell_type": "code",
   "execution_count": 28,
   "metadata": {},
   "outputs": [
    {
     "name": "stdout",
     "output_type": "stream",
     "text": [
      "+--------------------+---------+\n",
      "|         customer_id|age_group|\n",
      "+--------------------+---------+\n",
      "|000346516dd355b40...|      3.0|\n",
      "|0003e56a4332b2503...|      6.0|\n",
      "|0011a72ff27917972...|      4.0|\n",
      "|0022058e10f379f15...|      5.0|\n",
      "|0028449d82fdf6771...|      5.0|\n",
      "+--------------------+---------+\n",
      "only showing top 5 rows\n",
      "\n"
     ]
    }
   ],
   "source": [
    "# Add in age buckets\n",
    "\n",
    "bucketizer = Bucketizer(splits=[0, 18, 20, 25, 30, 40, 50, 120],inputCol=\"age\", outputCol=\"age_group\")\n",
    "customers = bucketizer.setHandleInvalid(\"keep\").transform(customers)\n",
    "\n",
    "dem_short = customers.select(col('customer_id'), col('age_group'))\n",
    "\n",
    "dem_short.show(5)"
   ]
  },
  {
   "cell_type": "code",
   "execution_count": 29,
   "metadata": {},
   "outputs": [
    {
     "name": "stdout",
     "output_type": "stream",
     "text": [
      "+--------------------+----------+----------+--------------------+----------------+------+-------+--------+---------+\n",
      "|         customer_id|article_id|     t_dat|               price|sales_channel_id|t_year|t_month|prod_sex|age_group|\n",
      "+--------------------+----------+----------+--------------------+----------------+------+-------+--------+---------+\n",
      "|000346516dd355b40...| 534210011|2018-11-28| 0.01523728813559322|               2|  2018|     11|       F|      3.0|\n",
      "|000346516dd355b40...| 666084001|2018-11-28|0.022016949152542376|               2|  2018|     11|       M|      3.0|\n",
      "|000346516dd355b40...| 557248003|2018-12-06|0.027101694915254236|               2|  2018|     12|       M|      3.0|\n",
      "|000346516dd355b40...| 507909001|2019-02-13|0.025406779661016947|               1|  2019|     02|       F|      3.0|\n",
      "|000346516dd355b40...| 642437010|2019-05-30|0.033881355932203386|               1|  2019|     05| Unknown|      3.0|\n",
      "+--------------------+----------+----------+--------------------+----------------+------+-------+--------+---------+\n",
      "only showing top 5 rows\n",
      "\n"
     ]
    }
   ],
   "source": [
    "# Join with transactions_full\n",
    "\n",
    "transactions_full = transactions_full.join(dem_short, on = 'customer_id', how = 'inner')\n",
    "\n",
    "transactions_full.show(5)"
   ]
  },
  {
   "cell_type": "markdown",
   "metadata": {},
   "source": [
    "<br>"
   ]
  },
  {
   "cell_type": "markdown",
   "metadata": {},
   "source": [
    "#### (1) Seasonal Model\n",
    "\n",
    "This model will recommend products based on seasonality. Note below that the prediction period is the week following 9/22/2020. Thus find most popular products sold in September, October of previous years and use as recommendations. Most recent seasons will be weighted more heavily\n",
    "\n",
    "Note that only previous seasons are considered i.e. 2018, 2019"
   ]
  },
  {
   "cell_type": "code",
   "execution_count": 30,
   "metadata": {},
   "outputs": [
    {
     "data": {
      "text/plain": [
       "[Row(max(t_dat)='2020-09-22')]"
      ]
     },
     "execution_count": 30,
     "metadata": {},
     "output_type": "execute_result"
    }
   ],
   "source": [
    "# Find prediction period\n",
    "\n",
    "transactions_full.agg({'t_dat': 'max'}).collect()"
   ]
  },
  {
   "cell_type": "code",
   "execution_count": 31,
   "metadata": {},
   "outputs": [
    {
     "name": "stdout",
     "output_type": "stream",
     "text": [
      "+--------------------+----------+----------+--------------------+----------------+------+-------+--------+---------+------+\n",
      "|         customer_id|article_id|     t_dat|               price|sales_channel_id|t_year|t_month|prod_sex|age_group|weight|\n",
      "+--------------------+----------+----------+--------------------+----------------+------+-------+--------+---------+------+\n",
      "|0011a72ff27917972...| 779059003|2019-10-14|0.050830508474576264|               2|  2019|     10|       F|      4.0|   1.0|\n",
      "|0011a72ff27917972...| 624257003|2019-10-14| 0.08472881355932205|               2|  2019|     10|       F|      4.0|   1.0|\n",
      "|0011a72ff27917972...| 745973002|2019-10-14|0.033881355932203386|               2|  2019|     10| Unknown|      4.0|   1.0|\n",
      "|0011a72ff27917972...| 796314001|2019-10-14|0.050830508474576264|               2|  2019|     10|       F|      4.0|   1.0|\n",
      "|0011a72ff27917972...| 807756001|2019-10-14|0.008457627118644067|               2|  2019|     10|       F|      4.0|   1.0|\n",
      "+--------------------+----------+----------+--------------------+----------------+------+-------+--------+---------+------+\n",
      "only showing top 5 rows\n",
      "\n"
     ]
    }
   ],
   "source": [
    "# Subset transactions_full to only sales in Nov, Oct\n",
    "\n",
    "tx_SepOct = transactions_full.filter(col('t_month').isin('09', '10'))\n",
    "tx_SepOct = tx_SepOct.filter(col('t_year').isin('2018', '2019'))\n",
    "\n",
    "\n",
    "# Create weights, heavier for more recent year\n",
    "\n",
    "tx_SepOct = tx_SepOct.withColumn(\n",
    "    'weight',\n",
    "    when(tx_SepOct.t_year == '2018', 0.5)\\\n",
    "    .when(tx_SepOct.t_year == '2019', 1)\n",
    ")\n",
    "\n",
    "tx_SepOct.show(5)"
   ]
  },
  {
   "cell_type": "markdown",
   "metadata": {},
   "source": [
    "##### Below table shows most popular products sold in months of September, October by sex and age-group"
   ]
  },
  {
   "cell_type": "code",
   "execution_count": 34,
   "metadata": {},
   "outputs": [
    {
     "name": "stdout",
     "output_type": "stream",
     "text": [
      "+--------+---------+----------+-----------+---+\n",
      "|prod_sex|age_group|article_id|sum(weight)|row|\n",
      "+--------+---------+----------+-----------+---+\n",
      "|       F|     null| 673677002|       31.0|  1|\n",
      "|       F|     null| 778064001|       30.0|  2|\n",
      "|       F|     null| 464297007|       29.0|  3|\n",
      "|       F|     null| 767834001|       29.0|  4|\n",
      "|       F|     null| 399256001|       27.0|  5|\n",
      "|       F|     null| 372860001|       25.5|  6|\n",
      "|       F|     null| 568601006|       24.0|  7|\n",
      "|       F|     null| 562245046|       23.0|  8|\n",
      "|       F|     null| 562245001|       22.5|  9|\n",
      "|       F|     null| 608776002|       22.5| 10|\n",
      "|       F|     null| 752814004|       21.0| 12|\n",
      "|       F|     null| 470985003|       21.0| 11|\n",
      "|       F|      0.0| 399256001|       11.0|  1|\n",
      "|       F|      0.0| 673677002|        6.0|  2|\n",
      "|       F|      0.0| 738943010|        5.0|  4|\n",
      "|       F|      0.0| 573085004|        5.0|  7|\n",
      "|       F|      0.0| 777070002|        5.0|  5|\n",
      "|       F|      0.0| 693243019|        5.0|  6|\n",
      "|       F|      0.0| 773989001|        5.0|  8|\n",
      "|       F|      0.0| 537116001|        5.0|  3|\n",
      "+--------+---------+----------+-----------+---+\n",
      "only showing top 20 rows\n",
      "\n"
     ]
    }
   ],
   "source": [
    "# Below gives the final Top-n purchase table\n",
    "\n",
    "tx_SepOct_small = tx_SepOct.select(col('article_id'), col('age_group'), col('weight'), col('prod_sex'))\n",
    "\n",
    "top_n = tx_SepOct_small.groupBy('prod_sex', 'age_group', 'article_id').sum('weight')\n",
    "top_n = top_n.sort(col('prod_sex'), col('age_group'), col('sum(weight)').desc())\n",
    "\n",
    "\n",
    "# Only keep top 12 most popular products\n",
    "\n",
    "windowDept = Window.partitionBy(['prod_sex', 'age_group']).orderBy(col(\"sum(weight)\").desc())\n",
    "top_n = top_n.withColumn(\"row\",row_number().over(windowDept))\n",
    "top_n = top_n.filter(col('row') <= 12)\n",
    "\n",
    "top_n = top_n.sort(col('prod_sex'), col('age_group'), col('sum(weight)').desc())\n",
    "\n",
    "top_n.show()"
   ]
  },
  {
   "cell_type": "markdown",
   "metadata": {},
   "source": [
    "##### Create Predictions By Merging Top-N Table, Format for Evaluation"
   ]
  },
  {
   "cell_type": "code",
   "execution_count": 40,
   "metadata": {},
   "outputs": [
    {
     "name": "stdout",
     "output_type": "stream",
     "text": [
      "+--------------------+--------------------+--------------------+\n",
      "|         customer_id|               preds|              labels|\n",
      "+--------------------+--------------------+--------------------+\n",
      "|0038bf2b66fdc1de4...|[399256001, 56860...|[864415002, 89475...|\n",
      "|004432f08708cc499...|[507909001, 67367...|[933406001, 85078...|\n",
      "|005ddabf9bc77f963...|[562245001, 46429...|[745232001, 91381...|\n",
      "|006ae0656ded2215d...|[562245001, 67367...|[803083002, 85001...|\n",
      "|0086f22a4967559a6...|[685813001, 73086...|[828295001, 87131...|\n",
      "+--------------------+--------------------+--------------------+\n",
      "only showing top 5 rows\n",
      "\n"
     ]
    }
   ],
   "source": [
    "# Merge top_n to get predictions\n",
    "\n",
    "predictions = customer_val.join(top_n, (customer_val.cust_sex == top_n.prod_sex) & (customer_val.age_group == top_n.age_group), \n",
    "                                how = 'inner')\n",
    "\n",
    "\n",
    "predictions = predictions.groupBy('customer_id') \\\n",
    "                      .agg(collect_set('article_id') \\\n",
    "                      .alias('preds'))\n",
    "\n",
    "pred_labels = predictions.join(validation, on = 'customer_id', how = 'inner') \n",
    "\n",
    "pred_labels.show(5)"
   ]
  },
  {
   "cell_type": "markdown",
   "metadata": {},
   "source": [
    "##### Evaluate Predictions"
   ]
  },
  {
   "cell_type": "code",
   "execution_count": 45,
   "metadata": {},
   "outputs": [],
   "source": [
    "pred_labels = pred_labels.select(col(\"preds\"), col(\"labels\")).rdd\n",
    "pred_labels = pred_labels.map(lambda x: (x[0], x[1]))"
   ]
  },
  {
   "cell_type": "code",
   "execution_count": 46,
   "metadata": {},
   "outputs": [],
   "source": [
    "metrics = RankingMetrics(pred_labels)"
   ]
  },
  {
   "cell_type": "code",
   "execution_count": 47,
   "metadata": {},
   "outputs": [
    {
     "data": {
      "text/plain": [
       "0.0020068105715145322"
      ]
     },
     "execution_count": 47,
     "metadata": {},
     "output_type": "execute_result"
    }
   ],
   "source": [
    "metrics.meanAveragePrecisionAt(12)"
   ]
  },
  {
   "cell_type": "markdown",
   "metadata": {},
   "source": [
    "<br>"
   ]
  },
  {
   "cell_type": "markdown",
   "metadata": {},
   "source": [
    "#### (2) Trending Product Model\n",
    "\n",
    "This model will recommend trending products, i.e. most popular products in the months leading up to the prediction period. Specifically, Aug-Sep 2020 most popular products will be recommended. "
   ]
  },
  {
   "cell_type": "code",
   "execution_count": 48,
   "metadata": {},
   "outputs": [
    {
     "name": "stdout",
     "output_type": "stream",
     "text": [
      "+--------------------+----------+----------+--------------------+----------------+------+-------+--------+---------+------+\n",
      "|         customer_id|article_id|     t_dat|               price|sales_channel_id|t_year|t_month|prod_sex|age_group|weight|\n",
      "+--------------------+----------+----------+--------------------+----------------+------+-------+--------+---------+------+\n",
      "|0038bf2b66fdc1de4...| 864415002|2020-08-14|0.016932203389830508|               1|  2020|     08|       F|      5.0|   0.5|\n",
      "|0038bf2b66fdc1de4...| 894756001|2020-08-14|0.022016949152542376|               1|  2020|     08|       F|      5.0|   0.5|\n",
      "|0038bf2b66fdc1de4...| 904820001|2020-08-14|0.033881355932203386|               1|  2020|     08|       F|      5.0|   0.5|\n",
      "|0038bf2b66fdc1de4...| 911870003|2020-09-12|0.033881355932203386|               1|  2020|     09|       F|      5.0|   1.0|\n",
      "|004432f08708cc499...| 850784003|2020-09-06|0.025406779661016947|               1|  2020|     09| Unknown|      2.0|   1.0|\n",
      "+--------------------+----------+----------+--------------------+----------------+------+-------+--------+---------+------+\n",
      "only showing top 5 rows\n",
      "\n"
     ]
    }
   ],
   "source": [
    "tx_AugSep = transactions_full.filter(col('t_month').isin('08', '09'))\n",
    "tx_AugSep = tx_AugSep.filter(col('t_year').isin('2020'))\n",
    "\n",
    "tx_AugSep = tx_AugSep.withColumn('weight',\n",
    "    when(tx_AugSep.t_month == '07', 0.5)\\\n",
    "    .when(tx_AugSep.t_month == '08', 0.5)\\\n",
    "    .when(tx_AugSep.t_month == '09', 1)\n",
    ")\n",
    "\n",
    "tx_AugSep.show(5)"
   ]
  },
  {
   "cell_type": "markdown",
   "metadata": {},
   "source": [
    "##### Below table shows most popular products sold in months of August, and September 2020 by sex and age-group"
   ]
  },
  {
   "cell_type": "code",
   "execution_count": 50,
   "metadata": {},
   "outputs": [
    {
     "name": "stdout",
     "output_type": "stream",
     "text": [
      "+--------+---------+----------+-----------+---+\n",
      "|prod_sex|age_group|article_id|sum(weight)|row|\n",
      "+--------+---------+----------+-----------+---+\n",
      "|       F|     null| 863595006|       10.5|  1|\n",
      "|       F|     null| 778064001|       10.5|  2|\n",
      "|       F|     null| 158340001|       10.0|  3|\n",
      "|       F|     null| 160442010|       10.0|  4|\n",
      "|       F|     null| 751471043|        8.5|  5|\n",
      "|       F|     null| 896169002|        8.0|  7|\n",
      "|       F|     null| 610776002|        8.0|  6|\n",
      "|       F|     null| 767862001|        7.5|  9|\n",
      "|       F|     null| 554598001|        7.5|  8|\n",
      "|       F|     null| 736870001|        7.0| 12|\n",
      "|       F|     null| 896152002|        7.0| 10|\n",
      "|       F|     null| 778064028|        7.0| 11|\n",
      "|       F|      0.0| 552716001|       29.0|  1|\n",
      "|       F|      0.0| 639448001|       24.5|  2|\n",
      "|       F|      0.0| 456163086|       24.5|  3|\n",
      "|       F|      0.0| 850917001|       20.5|  4|\n",
      "|       F|      0.0| 907409001|       17.0|  5|\n",
      "|       F|      0.0| 894756001|       16.5|  6|\n",
      "|       F|      0.0| 673396002|       15.5|  8|\n",
      "|       F|      0.0| 456163085|       15.5|  7|\n",
      "+--------+---------+----------+-----------+---+\n",
      "only showing top 20 rows\n",
      "\n"
     ]
    }
   ],
   "source": [
    "# Below gives the final Top-n purchase table\n",
    "\n",
    "tx_AugSep_small = tx_AugSep.select(col('article_id'), col('age_group'), col('weight'), col('prod_sex'))\n",
    "\n",
    "top_n = tx_AugSep_small.groupBy('prod_sex', 'age_group', 'article_id').sum('weight')\n",
    "top_n = top_n.sort(col('prod_sex'), col('age_group'), col('sum(weight)').desc())\n",
    "\n",
    "windowDept = Window.partitionBy(['prod_sex', 'age_group']).orderBy(col(\"sum(weight)\").desc())\n",
    "top_n = top_n.withColumn(\"row\",row_number().over(windowDept))\n",
    "top_n = top_n.filter(col('row') <= 12)\n",
    "\n",
    "top_n = top_n.sort(col('prod_sex'), col('age_group'), col('sum(weight)').desc())\n",
    "\n",
    "top_n.show()"
   ]
  },
  {
   "cell_type": "markdown",
   "metadata": {},
   "source": [
    "##### Create Predictions By Merging Top-N Table, Format for Evaluation"
   ]
  },
  {
   "cell_type": "code",
   "execution_count": 51,
   "metadata": {},
   "outputs": [
    {
     "name": "stdout",
     "output_type": "stream",
     "text": [
      "+--------------------+--------------------+--------------------+\n",
      "|         customer_id|               preds|              labels|\n",
      "+--------------------+--------------------+--------------------+\n",
      "|0038bf2b66fdc1de4...|[865929003, 78334...|[864415002, 89475...|\n",
      "|004432f08708cc499...|[915526001, 78161...|[933406001, 85078...|\n",
      "|005ddabf9bc77f963...|[610776002, 91552...|[745232001, 91381...|\n",
      "|006ae0656ded2215d...|[863583001, 91552...|[803083002, 85001...|\n",
      "|0086f22a4967559a6...|[685814063, 68581...|[828295001, 87131...|\n",
      "+--------------------+--------------------+--------------------+\n",
      "only showing top 5 rows\n",
      "\n"
     ]
    }
   ],
   "source": [
    "# Merge top_n to get predictions\n",
    "\n",
    "predictions = customer_val.join(top_n, (customer_val.cust_sex == top_n.prod_sex) & (customer_val.age_group == top_n.age_group), \n",
    "                                how = 'inner')\n",
    "\n",
    "\n",
    "predictions = predictions.groupBy('customer_id') \\\n",
    "                      .agg(collect_set('article_id') \\\n",
    "                      .alias('preds'))\n",
    "\n",
    "pred_labels = predictions.join(validation, on = 'customer_id', how = 'inner') \n",
    "\n",
    "pred_labels.show(5)\n"
   ]
  },
  {
   "cell_type": "markdown",
   "metadata": {},
   "source": [
    "##### Evaluate Predictions"
   ]
  },
  {
   "cell_type": "code",
   "execution_count": 52,
   "metadata": {},
   "outputs": [],
   "source": [
    "pred_labels = pred_labels.select(col(\"preds\"), col(\"labels\")).rdd\n",
    "pred_labels = pred_labels.map(lambda x: (x[0], x[1]))"
   ]
  },
  {
   "cell_type": "code",
   "execution_count": 53,
   "metadata": {},
   "outputs": [],
   "source": [
    "metrics = RankingMetrics(pred_labels)"
   ]
  },
  {
   "cell_type": "code",
   "execution_count": 54,
   "metadata": {},
   "outputs": [
    {
     "data": {
      "text/plain": [
       "0.006887753792953343"
      ]
     },
     "execution_count": 54,
     "metadata": {},
     "output_type": "execute_result"
    }
   ],
   "source": [
    "metrics.meanAveragePrecisionAt(12)"
   ]
  },
  {
   "cell_type": "markdown",
   "metadata": {},
   "source": [
    "<br>"
   ]
  },
  {
   "cell_type": "markdown",
   "metadata": {},
   "source": [
    "#### (3) ALS Implicit Model"
   ]
  },
  {
   "cell_type": "markdown",
   "metadata": {},
   "source": [
    "##### Format TrainTest_par file for training of ALS Model"
   ]
  },
  {
   "cell_type": "code",
   "execution_count": 5,
   "metadata": {},
   "outputs": [
    {
     "name": "stdout",
     "output_type": "stream",
     "text": [
      "+----------+--------------------+-----+--------+-------+\n",
      "|article_id|         customer_id|count|cust_idx|art_idx|\n",
      "+----------+--------------------+-----+--------+-------+\n",
      "| 694966001|000346516dd355b40...|    1|       1|  14954|\n",
      "| 485176004|000346516dd355b40...|    1|       1|   9496|\n",
      "| 666084001|000346516dd355b40...|    1|       1|  57811|\n",
      "| 809672001|000346516dd355b40...|    1|       1|  93320|\n",
      "| 766955002|000346516dd355b40...|    1|       1|  15091|\n",
      "+----------+--------------------+-----+--------+-------+\n",
      "only showing top 5 rows\n",
      "\n"
     ]
    }
   ],
   "source": [
    "# Load TrainTest_par\n",
    "\n",
    "TrainTest = spark.read.parquet(\"/sfs/qumulo/qhome/sar2jf/Documents/hm_fashion/Data/processed_data/TrainTest_par\")\n",
    "TrainTest_als = TrainTest.groupby('customer_id', 'article_id').count()\n",
    "\n",
    "\n",
    "# Need art_idx and cust_idx\n",
    "\n",
    "TrainTest_als = TrainTest_als.join(cust_idx, on = 'customer_id', how = 'inner')\n",
    "TrainTest_als = TrainTest_als.join(article_idx, on = 'article_id', how = 'inner')\n",
    "\n",
    "TrainTest_als.show(5)"
   ]
  },
  {
   "cell_type": "markdown",
   "metadata": {},
   "source": [
    "##### Train ALS Model"
   ]
  },
  {
   "cell_type": "code",
   "execution_count": 6,
   "metadata": {},
   "outputs": [],
   "source": [
    "als = ALS(userCol = \"cust_idx\", \n",
    "        itemCol = \"art_idx\", \n",
    "        ratingCol = \"count\",\n",
    "        coldStartStrategy = \"drop\", \n",
    "        nonnegative = True,\n",
    "        implicitPrefs = True\n",
    "       )\n",
    "\n",
    "model_als = als.fit(TrainTest_als)"
   ]
  },
  {
   "cell_type": "markdown",
   "metadata": {},
   "source": [
    "##### Make Predictions"
   ]
  },
  {
   "cell_type": "code",
   "execution_count": 11,
   "metadata": {},
   "outputs": [
    {
     "name": "stdout",
     "output_type": "stream",
     "text": [
      "+--------+\n",
      "|cust_idx|\n",
      "+--------+\n",
      "|       9|\n",
      "|      11|\n",
      "|      14|\n",
      "|      15|\n",
      "|      18|\n",
      "+--------+\n",
      "only showing top 5 rows\n",
      "\n"
     ]
    }
   ],
   "source": [
    "# Create list to make predictions on, based on cust_idx\n",
    "\n",
    "user_subset = validation.select(col('customer_id'))\n",
    "user_subset = user_subset.join(cust_idx, on = 'customer_id', how = 'inner')\n",
    "user_subset = user_subset.select(col('cust_idx'))\n",
    "\n",
    "user_subset.show(5)"
   ]
  },
  {
   "cell_type": "code",
   "execution_count": 27,
   "metadata": {},
   "outputs": [
    {
     "name": "stdout",
     "output_type": "stream",
     "text": [
      "+--------+--------------------+\n",
      "|cust_idx|     recommendations|\n",
      "+--------+--------------------+\n",
      "|     148|[{35801, 0.127422...|\n",
      "|    4935|[{51857, 0.160507...|\n",
      "|    6466|[{7857, 0.0731965...|\n",
      "|    6620|[{23821, 0.094929...|\n",
      "|    7340|[{87396, 0.186739...|\n",
      "+--------+--------------------+\n",
      "only showing top 5 rows\n",
      "\n"
     ]
    }
   ],
   "source": [
    "# Recommend products \n",
    "\n",
    "pred_als = model_als.recommendForUserSubset(user_subset, 12)\n",
    "\n",
    "pred_als.show(5)"
   ]
  },
  {
   "cell_type": "markdown",
   "metadata": {},
   "source": [
    "##### Evaluate Predictions"
   ]
  },
  {
   "cell_type": "code",
   "execution_count": 16,
   "metadata": {},
   "outputs": [
    {
     "name": "stdout",
     "output_type": "stream",
     "text": [
      "+--------+--------------------+\n",
      "|cust_idx|              labels|\n",
      "+--------+--------------------+\n",
      "|     148|             [82870]|\n",
      "|    4935|[99746, 19946, 7819]|\n",
      "|    6466|     [87682, 101258]|\n",
      "|    6620|[11863, 97930, 20...|\n",
      "|    7340|[44166, 36724, 14...|\n",
      "+--------+--------------------+\n",
      "only showing top 5 rows\n",
      "\n"
     ]
    }
   ],
   "source": [
    "# Format validation data for ALS model evaluation\n",
    "\n",
    "val_als = spark.read.parquet(\"/sfs/qumulo/qhome/sar2jf/Documents/hm_fashion/Data/processed_data/val_par\")\n",
    "\n",
    "val_als = val_als.join(article_idx, on = 'article_id', how = 'inner')\n",
    "val_als = val_als.join(cust_idx, on = 'customer_id', how = 'inner')\n",
    "\n",
    "\n",
    "val_als = val_als.groupBy('cust_idx') \\\n",
    "                      .agg(collect_set('art_idx') \\\n",
    "                      .alias('labels'))\n",
    "\n",
    "val_als.show(5)"
   ]
  },
  {
   "cell_type": "code",
   "execution_count": 32,
   "metadata": {},
   "outputs": [
    {
     "name": "stdout",
     "output_type": "stream",
     "text": [
      "+--------+--------------------+--------------------+\n",
      "|cust_idx|             art_idx|              labels|\n",
      "+--------+--------------------+--------------------+\n",
      "|     148|[35801, 85631, 43...|             [82870]|\n",
      "|    4935|[51857, 68776, 82...|[99746, 19946, 7819]|\n",
      "|    6466|[7857, 46719, 152...|     [87682, 101258]|\n",
      "|    6620|[23821, 26974, 22...|[11863, 97930, 20...|\n",
      "|    7340|[87396, 102680, 5...|[44166, 36724, 14...|\n",
      "+--------+--------------------+--------------------+\n",
      "only showing top 5 rows\n",
      "\n"
     ]
    }
   ],
   "source": [
    "# Create predictions and labels dataframe\n",
    "\n",
    "pred_label_als = pred_als.select(col('recommendations.art_idx'), col('cust_idx'))\n",
    "pred_label_als = pred_label_als.join(val_als, on = 'cust_idx', how = 'inner')\n",
    "\n",
    "pred_label_als.show(5)"
   ]
  },
  {
   "cell_type": "code",
   "execution_count": 33,
   "metadata": {},
   "outputs": [],
   "source": [
    "pred_label_als = pred_label_als.select('art_idx', \"labels\").rdd\n",
    "pred_label_als = pred_label_als.map(lambda x: (x[0], x[1]))"
   ]
  },
  {
   "cell_type": "code",
   "execution_count": 34,
   "metadata": {},
   "outputs": [],
   "source": [
    "metrics = RankingMetrics(pred_label_als)"
   ]
  },
  {
   "cell_type": "code",
   "execution_count": 35,
   "metadata": {},
   "outputs": [
    {
     "data": {
      "text/plain": [
       "0.004910241737678567"
      ]
     },
     "execution_count": 35,
     "metadata": {},
     "output_type": "execute_result"
    }
   ],
   "source": [
    "metrics.meanAveragePrecisionAt(12)"
   ]
  },
  {
   "cell_type": "markdown",
   "metadata": {},
   "source": [
    "<br>"
   ]
  },
  {
   "cell_type": "markdown",
   "metadata": {},
   "source": [
    "#### (4) Market Basket Analysis (MBA)"
   ]
  },
  {
   "cell_type": "code",
   "execution_count": 36,
   "metadata": {},
   "outputs": [
    {
     "name": "stdout",
     "output_type": "stream",
     "text": [
      "+--------------------+--------------------+\n",
      "|         customer_id|               items|\n",
      "+--------------------+--------------------+\n",
      "|0005d926defbe130e...|[780297002, 84985...|\n",
      "|000fd548002726b75...|[693242006, 47078...|\n",
      "|00299609d2f3cd490...|[777504004, 53613...|\n",
      "|003cac311b5886fd1...|         [726768001]|\n",
      "|003dcdb1164332b8a...|[769620001, 38685...|\n",
      "+--------------------+--------------------+\n",
      "only showing top 5 rows\n",
      "\n"
     ]
    }
   ],
   "source": [
    "# Read in train data from parquet\n",
    "\n",
    "parquetFile = spark.read.parquet(\"/sfs/qumulo/qhome/sar2jf/Documents/hm_fashion/Data/processed_data/train_mba_par\")\n",
    "\n",
    "parquetFile.createOrReplaceTempView(\"train_mba\")\n",
    "train_mba = spark.sql(\"SELECT * FROM train_mba\")\n",
    "\n",
    "train_mba.show(5)\n"
   ]
  },
  {
   "cell_type": "code",
   "execution_count": 37,
   "metadata": {},
   "outputs": [
    {
     "name": "stdout",
     "output_type": "stream",
     "text": [
      "+--------------------+--------------------+--------------------+\n",
      "|         customer_id|              labels|             history|\n",
      "+--------------------+--------------------+--------------------+\n",
      "|002a72483ab192e7c...|[278811009, 27881...|[740943003, 74814...|\n",
      "|00b3d59d31333ebd0...|[919273002, 87152...|[699867001, 79079...|\n",
      "|00c0875075599d2b4...|[715624001, 67793...|[785018005, 81659...|\n",
      "|00c51f82b53ff1b4b...|         [337991002]|[763529002, 85570...|\n",
      "|00c80932cf9461749...|[803969009, 86441...|[689898003, 78586...|\n",
      "+--------------------+--------------------+--------------------+\n",
      "only showing top 5 rows\n",
      "\n"
     ]
    }
   ],
   "source": [
    "# Read in validation data from parquet\n",
    "\n",
    "parquetFile = spark.read.parquet(\"/sfs/qumulo/qhome/sar2jf/Documents/hm_fashion/Data/processed_data/val_mba_par\")\n",
    "parquetFile.createOrReplaceTempView(\"val_mba\")\n",
    "\n",
    "val_mba = spark.sql(\"SELECT * FROM val_mba\")\n",
    "\n",
    "val_mba.show(5)"
   ]
  },
  {
   "cell_type": "code",
   "execution_count": 44,
   "metadata": {},
   "outputs": [],
   "source": [
    "# Specify Model\n",
    "\n",
    "fpGrowth = FPGrowth(itemsCol=\"items\", minSupport=0.01, minConfidence=0.01)"
   ]
  },
  {
   "cell_type": "code",
   "execution_count": null,
   "metadata": {},
   "outputs": [],
   "source": [
    "mba_model = fpGrowth.fit(train_mba)"
   ]
  },
  {
   "cell_type": "code",
   "execution_count": null,
   "metadata": {},
   "outputs": [],
   "source": [
    "# Show top 10 association rules\n",
    "\n",
    "mba_rules = mba_model.associationRules.sort(col('Confidence').desc())\n",
    "\n",
    "mba_rules.show(20)"
   ]
  },
  {
   "cell_type": "code",
   "execution_count": 25,
   "metadata": {},
   "outputs": [
    {
     "name": "stdout",
     "output_type": "stream",
     "text": [
      "Antedents:\n",
      "+-------------+-----------------+\n",
      "|prod_index_id|product_type_name|\n",
      "+-------------+-----------------+\n",
      "|          227|         Vest top|\n",
      "+-------------+-----------------+\n",
      "only showing top 1 row\n",
      "\n",
      "+-------------+-----------------+\n",
      "|prod_index_id|product_type_name|\n",
      "+-------------+-----------------+\n",
      "|           21|  Swimwear bottom|\n",
      "+-------------+-----------------+\n",
      "only showing top 1 row\n",
      "\n",
      "+-------------+-----------------+\n",
      "|prod_index_id|product_type_name|\n",
      "+-------------+-----------------+\n",
      "|          454|              Bra|\n",
      "+-------------+-----------------+\n",
      "only showing top 1 row\n",
      "\n",
      "\n",
      "Consequent:\n",
      "+-------------+-----------------+\n",
      "|prod_index_id|product_type_name|\n",
      "+-------------+-----------------+\n",
      "|          415|       Bikini top|\n",
      "+-------------+-----------------+\n",
      "only showing top 1 row\n",
      "\n"
     ]
    }
   ],
   "source": [
    "# View items of first rule\n",
    "\n",
    "print(\"Antedents:\")\n",
    "\n",
    "art_lookup.filter(col('prod_index_id') == '227').select(col('prod_index_id'), col('product_type_name')).show(1)\n",
    "art_lookup.filter(col('prod_index_id') == '21').select(col('prod_index_id'), col('product_type_name')).show(1)\n",
    "art_lookup.filter(col('prod_index_id') == '454').select(col('prod_index_id'), col('product_type_name')).show(1)\n",
    "\n",
    "print(\"\")\n",
    "print(\"Consequent:\")\n",
    "\n",
    "art_lookup.filter(col('prod_index_id') == '415').select(col('prod_index_id'), col('product_type_name')).show(1)"
   ]
  },
  {
   "cell_type": "code",
   "execution_count": null,
   "metadata": {},
   "outputs": [],
   "source": []
  }
 ],
 "metadata": {
  "kernelspec": {
   "display_name": "Python 3",
   "language": "python",
   "name": "python3"
  },
  "language_info": {
   "codemirror_mode": {
    "name": "ipython",
    "version": 3
   },
   "file_extension": ".py",
   "mimetype": "text/x-python",
   "name": "python",
   "nbconvert_exporter": "python",
   "pygments_lexer": "ipython3",
   "version": "3.8.5"
  }
 },
 "nbformat": 4,
 "nbformat_minor": 4
}
